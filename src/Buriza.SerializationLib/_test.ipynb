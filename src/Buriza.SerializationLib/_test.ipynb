{
 "cells": [
  {
   "cell_type": "code",
   "execution_count": 4,
   "metadata": {
    "dotnet_interactive": {
     "language": "fsharp"
    },
    "polyglot_notebook": {
     "kernelName": "fsharp"
    }
   },
   "outputs": [
    {
     "data": {
      "text/html": [
       "<div><div></div><div></div><div><strong>Installed Packages</strong><ul><li><span>PeterO.Cbor, 4.5.2</span></li></ul></div></div>"
      ]
     },
     "metadata": {},
     "output_type": "display_data"
    }
   ],
   "source": [
    "#r \"nuget: PeterO.Cbor\""
   ]
  },
  {
   "cell_type": "code",
   "execution_count": 5,
   "metadata": {
    "dotnet_interactive": {
     "language": "fsharp"
    },
    "polyglot_notebook": {
     "kernelName": "fsharp"
    }
   },
   "outputs": [],
   "source": [
    "#load \"Library.fs\"\n",
    "#load \"StringHelpers.fs\""
   ]
  },
  {
   "cell_type": "code",
   "execution_count": 6,
   "metadata": {
    "dotnet_interactive": {
     "language": "fsharp"
    },
    "polyglot_notebook": {
     "kernelName": "fsharp"
    }
   },
   "outputs": [
    {
     "data": {
      "text/plain": [
       "84a3008182582098035740ab68cad12cb4d8281d10ce1112ef0933dc84920b8937c3e80d78d12000018282581d60d0c43926a989c88d5049e61bdebf2a887aca10fa284b9067373ea28f0082581d603b75186909c120a97f6f0ee6822701f075e5136f3b9a08604a63dce7000200a0f5f6"
      ]
     },
     "metadata": {},
     "output_type": "display_data"
    }
   ],
   "source": [
    "open Buriza.SerializationLib\n",
    "open Buriza.SerializationLib.Helpers\n",
    "\n",
    "let tx = {\n",
    "  Body =  (TransactionBody.New \n",
    "  |> (fun Tx ->\n",
    "        Tx.Inputs.Add(\n",
    "          { Index = 0u\n",
    "            Id = StringHelpers.HexToBytes(\"98035740ab68cad12cb4d8281d10ce1112ef0933dc84920b8937c3e80d78d120\") }\n",
    "        )\n",
    "\n",
    "        Tx.Outputs.Add(\n",
    "          { Address = StringHelpers.HexToBytes(\"60d0c43926a989c88d5049e61bdebf2a887aca10fa284b9067373ea28f\"); Value = (Lovelace 0UL) }\n",
    "        )\n",
    "\n",
    "        Tx.Outputs.Add(\n",
    "          { Address = StringHelpers.HexToBytes(\"603b75186909c120a97f6f0ee6822701f075e5136f3b9a08604a63dce7\"); Value = (Lovelace 0UL) }\n",
    "        )\n",
    "\n",
    "        Tx)\n",
    "      )\n",
    "  IsValid = true\n",
    "}\n",
    "\n",
    "StringHelpers.BytesToHex tx.Serialize"
   ]
  }
 ],
 "metadata": {
  "kernelspec": {
   "display_name": ".NET (C#)",
   "language": "C#",
   "name": ".net-csharp"
  },
  "polyglot_notebook": {
   "kernelInfo": {
    "defaultKernelName": "csharp",
    "items": [
     {
      "aliases": [],
      "name": "csharp"
     }
    ]
   }
  }
 },
 "nbformat": 4,
 "nbformat_minor": 2
}
